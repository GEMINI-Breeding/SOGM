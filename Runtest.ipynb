{
 "cells": [
  {
   "cell_type": "code",
   "execution_count": null,
   "id": "2b399e20c3983d3e",
   "metadata": {
    "collapsed": false
   },
   "outputs": [],
   "source": [
    "import numpy as np\n",
    "import torch\n",
    "import matplotlib.pyplot as plt\n",
    "import BasicFunctions as SGf\n",
    "from Models.spectragen import genspectra as gspec\n",
    "import random\n",
    "from scipy.ndimage import gaussian_filter\n",
    "from Models.spectrapad import padspectra as PS\n",
    "import Models.water.waterU as MW\n",
    "import matplotlib.cm as cm\n",
    "from scipy.signal import savgol_filter"
   ]
  },
  {
   "cell_type": "code",
   "outputs": [],
   "source": [
    "# define wavelength range\n",
    "wavelength = np.arange(400,2500,1)"
   ],
   "metadata": {
    "collapsed": false
   },
   "id": "6bbb79dd033b602f",
   "execution_count": null
  },
  {
   "cell_type": "markdown",
   "source": [
    "# Generate soil spectra"
   ],
   "metadata": {
    "collapsed": false
   },
   "id": "91e51aa2ac5460f0"
  },
  {
   "cell_type": "code",
   "outputs": [],
   "source": [
    "prop_test_1 = []\n",
    "# set soil properties (-1 means not available)\n",
    "spectrabrand = 'FOSS'  # ASD, FOSS, Spectral Evolution, or None\n",
    "Clay = 8   # %\n",
    "Silt = 7   # %   \n",
    "# Sand content is calculated by 100 - Clay - Silt\n",
    "SOM = 120  # soil organic matter, g/kg\n",
    "Nitrogen = 2.2  # total nitrogen content, g/kg\n",
    "CEC = 123 # cation exchange capacity, cmol(+)/kg\n",
    "OC = 38 # organic carbon content, g/kg\n",
    "tP = -1 # total phosphorus content, mg/kg\n",
    "pH_w = 4.7 # pH measured from water solution\n",
    "Fe = 80000 # iron content, mg/kg\n",
    "dens = -1 # soil bulk density, g/cm3\n",
    "ec = -1 # electrical conductivity, mS/m\n",
    "caco3 = -1 # CaCO3 content, g/kg\n",
    "tc = -1 # total carbon content, %\n",
    "\n",
    "prop_test_1.append(SGf.setProp(spectrabrand, Clay, Silt, SOM, Nitrogen, CEC, OC, tP, pH_w, Fe, dens, ec, caco3, tc))\n",
    "emb_test = SGf.words2indices(prop_test_1, 42, 16, 509)\n",
    "# average 5 times\n",
    "emb_test = emb_test.repeat(5,1,1)\n",
    "spectratest = gspec.generatespectra(emb_test, torch.device('cpu'), False)\n",
    "spectratest = np.mean(spectratest,0)\n",
    "spectratest = spectratest.reshape(1,-1)\n",
    "print(spectratest.shape)\n",
    "plt.plot(spectratest[:, :].T)\n",
    "\n",
    "# store x and y in xml file in Helios spectra format\n",
    "spectra_ = []\n",
    "for i in range(1):\n",
    "    spectra_.append((wavelength, spectratest[i, :].T, f\"Generated soil reflectivity {i}\"))\n",
    "# save_multiple_spectra_to_xml(spectra_, \"results/New soil 0.xml\")"
   ],
   "metadata": {
    "collapsed": false
   },
   "id": "ab89cefa31fe064d",
   "execution_count": null
  },
  {
   "cell_type": "markdown",
   "source": [
    "# smooth spectratest using Savitzky-Golay 2nd order filter if needed"
   ],
   "metadata": {
    "collapsed": false
   },
   "id": "6bb287747ec98251"
  },
  {
   "cell_type": "code",
   "outputs": [],
   "source": [
    "spectratest = savgol_filter(spectratest, 30, 2, axis=1)\n",
    "plt.plot(spectratest[:, :].T)"
   ],
   "metadata": {
    "collapsed": false
   },
   "id": "fd47fb0b9c85f9e2",
   "execution_count": null
  },
  {
   "cell_type": "markdown",
   "source": [
    "# run wet spectra model"
   ],
   "metadata": {
    "collapsed": false
   },
   "id": "5864637922bc4091"
  },
  {
   "cell_type": "code",
   "outputs": [],
   "source": [
    "# define SMCs (%)\n",
    "SMCs_show = torch.tensor([2, 6, 10, 14, 18, 22])\n",
    "SMCs_show_input = SMCs_show.unsqueeze(1).float()\n",
    "dry_spectra_input = torch.tensor(spectratest).float().repeat(SMCs_show_input.shape[0], 1) # repeat the dry spectrum for the number of SMCs\n",
    "wet_spectra_show_predict = MW.modelwater(dry_spectra_input,  SMCs_show_input, 'cpu')"
   ],
   "metadata": {
    "collapsed": false
   },
   "id": "b0c6de97223c6da6",
   "execution_count": null
  },
  {
   "cell_type": "code",
   "outputs": [],
   "source": [
    "# show differences between wet and dry spectra\n",
    "# dry_spectra = torch.tensor(spectratest).float().repeat(SMCs_show_input.shape[0], 1)\n",
    "# diff = (dry_spectra - wet_spectra_show_predict.cpu())\n",
    "# plt.plot(diff.cpu().numpy().T)"
   ],
   "metadata": {
    "collapsed": false
   },
   "id": "28672bb75b1bab0a",
   "execution_count": null
  },
  {
   "cell_type": "code",
   "outputs": [],
   "source": [
    "# plot dry and wet spectra\n",
    "x_limit = (400, 2500)\n",
    "y_limit = (0, 60)\n",
    "x_label = 'Wavelength (nm)'\n",
    "y_label = 'Reflectance (%)'\n",
    "fontsz = 17\n",
    "\n",
    "# Colors\n",
    "colors = cm.jet(np.linspace(0, 1, len(SMCs_show)))  # Colormap\n",
    "\n",
    "plt.figure(figsize=(8, 6))\n",
    "\n",
    "# Plot each SMC level with a color from the colormap\n",
    "for i, smc in enumerate(SMCs_show):\n",
    "    plt.plot(wavelength, 100 * wet_spectra_show_predict[i].cpu(), color=colors[-1 - i], linewidth=2)\n",
    "\n",
    "# Plot spectratest data\n",
    "plt.plot(wavelength, 100 * spectratest.T, 'black', linestyle='--', linewidth=2)\n",
    "\n",
    "# Plot settings\n",
    "plt.xlabel(x_label, fontsize=fontsz)\n",
    "plt.ylabel(y_label, fontsize=fontsz)\n",
    "plt.legend([f'{smc}%' for smc in SMCs_show], fontsize=fontsz, loc='upper center', ncol=3)\n",
    "plt.xlim(x_limit)\n",
    "plt.ylim(y_limit)\n",
    "plt.xticks([500, 1000, 1500, 2000], fontsize=fontsz)\n",
    "plt.yticks(fontsize=fontsz)\n",
    "plt.tight_layout()\n",
    "\n",
    "# Save the plot as an image file\n",
    "# plt.savefig('results/spectraSMCs.jpeg', format='jpeg', dpi=300)  # dpi is optional, for resolution adjustment\n",
    "plt.show()\n",
    "# plt.close()  # Close the figure"
   ],
   "metadata": {
    "collapsed": false
   },
   "id": "a9fb6cc97e36dd42",
   "execution_count": null
  },
  {
   "cell_type": "markdown",
   "source": [
    "# test spectra padding model"
   ],
   "metadata": {
    "collapsed": false
   },
   "id": "705e412286e4857f"
  },
  {
   "cell_type": "code",
   "outputs": [],
   "source": [
    "# set part of the test spectra to 0\n",
    "spectra_test_part = torch.tensor(spectratest).float().repeat(1, 1)\n",
    "spectra_test_part[:, :1000] = 0\n",
    "spectra_test_fill = PS.padspectra(spectra_test_part,'cpu')\n",
    "plt.plot(spectra_test_fill[:, :].T)\n",
    "plt.plot(spectratest[:, :].T)\n",
    "plt.legend(['padded spectra', 'original spectra'])"
   ],
   "metadata": {
    "collapsed": false
   },
   "id": "35711160ef62320d",
   "execution_count": null
  },
  {
   "cell_type": "code",
   "outputs": [],
   "source": [
    "prop_test_all = []\n",
    "Clay = 33\n",
    "Silt = 47\n",
    "SOM = 30\n",
    "Nitrogen = -1\n",
    "CEC = 30\n",
    "OC = 8\n",
    "tP = -1\n",
    "pH_w = 6.6\n",
    "Fe = -1\n",
    "dens = -1\n",
    "ec = 55\n",
    "for i in range(4):\n",
    "    prop_test_all.append(SGf.setProp('ASD', Clay, Silt, SOM, Nitrogen, CEC, OC, tP, pH_w, Fe, dens,ec))\n",
    "    SOM = SOM + 2.5\n",
    "    OC = OC + 0.5\n",
    "    CEC = CEC + 2\n",
    "print(len(prop_test_all))\n",
    "\n",
    "emb_test = SGf.words2indices(prop_test_all, 42, 16, 509)\n",
    "spectratest_all = np.zeros((4, 2100))\n",
    "for i in range(5): # average 5 times\n",
    "    spectratest = gspec.generatespectra(emb_test, torch.device('cpu'), True)\n",
    "    spectratest_all = spectratest_all + spectratest*0.2\n",
    "    \n",
    "plt.plot(spectratest_all[:, :].T)\n",
    "\n",
    "spectra_ = []\n",
    "for i in range(spectratest_all.shape[0]):\n",
    "    spectra_.append((wavelength, spectratest_all[i, :].T, f\"Generated soil reflectivity {i}\"))\n",
    "# SGf.saveSpectra2heliosxml(spectra_, \"results/soilmapspectra.xml\")"
   ],
   "metadata": {
    "collapsed": false
   },
   "id": "b9d9157fc0c9b511",
   "execution_count": null
  },
  {
   "cell_type": "code",
   "outputs": [],
   "source": [
    "# generate square soil map obj and xml label file\n",
    "# Parameters for the ground surface\n",
    "width = 500  # Width of the grid\n",
    "height = 500  # Height of the grid\n",
    "scale = 0.5  # Scale for height variations\n",
    "\n",
    "# Generate a grid of points\n",
    "vertices = [(x, y, random.uniform(-scale, scale)) for x in range(width) for y in range(height)]"
   ],
   "metadata": {
    "collapsed": false
   },
   "id": "9deba018e286f282",
   "execution_count": null
  },
  {
   "cell_type": "code",
   "outputs": [],
   "source": [
    "# Generate a random label map\n",
    "\n",
    "random_terrain = np.random.rand(width, height)\n",
    "# Apply Gaussian filter to smooth the terrain\n",
    "sigma = 50 # Adjust the sigma value to control the smoothness\n",
    "smooth_terrain = gaussian_filter(random_terrain, sigma=sigma)\n",
    "smooth_terrain = (smooth_terrain - np.min(smooth_terrain)) / (np.max(smooth_terrain) - np.min(smooth_terrain))\n",
    "smooth_map_array = np.round(smooth_terrain*3)\n",
    "\n",
    "# Save the array to a text file\n",
    "\n",
    "# Plot the map\n",
    "plt.figure(figsize=(6, 6))\n",
    "plt.imshow(smooth_map_array, cmap='tab20c')\n",
    "plt.axis('off')\n",
    "plt.colorbar(label='Region Label')\n",
    "# Save the figure before plt.show()\n",
    "# plt.savefig('results/soilmap.png')  # Make sure the 'results/' directory exists\n",
    "\n",
    "# Show the plot\n",
    "plt.show()"
   ],
   "metadata": {
    "collapsed": false
   },
   "id": "f6a90de8f48be35a",
   "execution_count": null
  },
  {
   "cell_type": "code",
   "outputs": [],
   "source": [
    "# Generate faces (using triangles or quadrilaterals)\n",
    "faces = []\n",
    "labels = []\n",
    "for x in range(width - 1):\n",
    "    for y in range(height - 1):\n",
    "        label = smooth_map_array[x,y]\n",
    "        # Define vertices for each face (quadrilateral)\n",
    "        v1 = x * height + y\n",
    "        v2 = v1 + height\n",
    "        v3 = v2 + 1\n",
    "        v4 = v1 + 1\n",
    "        # Add two triangles for each quadrilateral\n",
    "        faces.append((v1, v2, v3))\n",
    "        faces.append((v1, v3, v4))\n",
    "        labels.append(label)\n",
    "        labels.append(label)\n",
    "print(f\"Number of vertices: {len(faces)}\")\n",
    "print(f\"Number of labels: {len(labels)}\")\n",
    "# Write to an OBJ file\n",
    "# with open(\"results/ground_surface_large.obj\", \"w\") as file:\n",
    "#     for v in vertices:\n",
    "#         file.write(f\"v {v[0]} {v[1]} {v[2]}\\n\")\n",
    "#     for f in faces:\n",
    "#         file.write(f\"f {f[0] + 1} {f[1] + 1} {f[2] + 1}\\n\")\n",
    "\n",
    "# save labels to xml file\n",
    "labels_ = []\n",
    "uuids = np.arange(len(labels))\n",
    "print(len(uuids))\n",
    "for i in range(1):\n",
    "    labels_.append((uuids,labels, f\"Soil label {i}\"))\n",
    "# SGf.saveSpectra2heliosxml(labels_, \"results/ground_surface_large_labels.xml\")"
   ],
   "metadata": {
    "collapsed": false
   },
   "id": "450c4a1ac452da98",
   "execution_count": null
  },
  {
   "cell_type": "code",
   "outputs": [],
   "source": [
    "import os\n",
    "\n",
    "current_directory = os.getcwd()\n",
    "print(current_directory)\n"
   ],
   "metadata": {
    "collapsed": false
   },
   "id": "63eefdf0fb9d3ce6",
   "execution_count": null
  },
  {
   "cell_type": "code",
   "outputs": [],
   "source": [],
   "metadata": {
    "collapsed": false
   },
   "id": "4dce92cfe95c5244"
  }
 ],
 "metadata": {
  "kernelspec": {
   "display_name": "Python 3",
   "language": "python",
   "name": "python3"
  },
  "language_info": {
   "codemirror_mode": {
    "name": "ipython",
    "version": 2
   },
   "file_extension": ".py",
   "mimetype": "text/x-python",
   "name": "python",
   "nbconvert_exporter": "python",
   "pygments_lexer": "ipython2",
   "version": "2.7.6"
  }
 },
 "nbformat": 4,
 "nbformat_minor": 5
}
